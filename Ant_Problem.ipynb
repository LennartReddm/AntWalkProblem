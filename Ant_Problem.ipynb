{
  "nbformat": 4,
  "nbformat_minor": 0,
  "metadata": {
    "colab": {
      "provenance": [],
      "toc_visible": true,
      "authorship_tag": "ABX9TyPKRyoZ8Np46X9j2vROCx1S",
      "include_colab_link": true
    },
    "kernelspec": {
      "name": "python3",
      "display_name": "Python 3"
    },
    "language_info": {
      "name": "python"
    }
  },
  "cells": [
    {
      "cell_type": "markdown",
      "metadata": {
        "id": "view-in-github",
        "colab_type": "text"
      },
      "source": [
        "<a href=\"https://colab.research.google.com/github/LennartReddm/AntWalkProblem/blob/main/Ant_Problem.ipynb\" target=\"_parent\"><img src=\"https://colab.research.google.com/assets/colab-badge.svg\" alt=\"Open In Colab\"/></a>"
      ]
    },
    {
      "cell_type": "code",
      "execution_count": 1,
      "metadata": {
        "id": "h7aMD9UfyvnR"
      },
      "outputs": [],
      "source": [
        "# Load libraries\n",
        "import numpy as np\n",
        "import pandas as pd\n",
        "import random\n",
        "import matplotlib.pyplot as plt\n",
        "from google.colab import data_table\n",
        "import sympy as sp\n",
        "from IPython.display import display, Math"
      ]
    },
    {
      "cell_type": "markdown",
      "source": [
        "# Optiver Ant Walk Problem"
      ],
      "metadata": {
        "id": "WTlE8HjkPMU7"
      }
    },
    {
      "cell_type": "markdown",
      "source": [
        "An ant leaves its anthill in order to forage for food. It moves with the speed of 10cm per second, but it doesn’t know where to go, therefore every second it moves randomly 10cm directly north, south, east or west with equal probability.\n",
        "\n",
        "1. If the food is located on east-west lines 20cm to the north and 20cm to the south, as well as on north-south lines 20cm to the east and 20cm to the west from the anthill, how long will it take the ant to reach it on average?\n",
        "\n",
        "2. What is the average time the ant will reach food if it is located only on a diagonal line passing through (10cm, 0cm) and (0cm, 10cm) points?\n",
        "\n",
        "3. Can you write a program that comes up with an estimate of average time to find food for any closed boundary around the anthill? What would be the answer if food is located outside an defined by ( (x – 2.5cm) / 30cm )2 + ( (y – 2.5cm) / 40cm )2 < 1 in coordinate system where the anthill is located at (x = 0cm, y = 0cm)? Provide us with a solution rounded to the nearest integer."
      ],
      "metadata": {
        "id": "3vPg8BJc_PXt"
      }
    },
    {
      "cell_type": "markdown",
      "source": [
        "## Question 1. Time to Reach Food Boundary"
      ],
      "metadata": {
        "id": "Fn8TAjWjQldT"
      }
    },
    {
      "cell_type": "markdown",
      "source": [
        "If the food is located on east-west lines 20cm to the north and 20cm to the south, as well as on north-south lines 20cm to the east and 20cm to the west from the anthill, how long will it take the ant to reach it on average?"
      ],
      "metadata": {
        "id": "7j--L7tEM_xF"
      }
    },
    {
      "cell_type": "markdown",
      "source": [
        "### Analytical Solution"
      ],
      "metadata": {
        "id": "RLGbVhTBx-rR"
      }
    },
    {
      "cell_type": "markdown",
      "source": [
        "We are dealing with a 2-dimensional random walk on a 5-by-5 grid. In order to calculate the average time, we want to know the average number of steps that the ant needs to hit the boundary of the grid. We can visualize the problem like this:\n",
        "\n",
        "\n",
        "\n",
        "\n"
      ],
      "metadata": {
        "id": "vHOm_waQyMs9"
      }
    },
    {
      "cell_type": "code",
      "source": [
        "# Plot of the 5-by-5 grid\n",
        "fig, ax = plt.subplots(figsize=(6,6))\n",
        "# Draw thin lines connecting the dots\n",
        "for i in range(5):\n",
        "    ax.plot([0.5 + i, 0.5 + i], [0.5, 4.5], color='grey', linestyle='-', linewidth=0.5)\n",
        "    ax.plot([0.5, 4.5], [0.5 + i, 0.5 + i], color='grey', linestyle='-', linewidth=0.5)\n",
        "# Draw dots at the center of each square\n",
        "for i in range(5):\n",
        "    for j in range(5):\n",
        "        if i == 2 and j == 2:\n",
        "            ax.scatter(i + 0.5, j + 0.5, color='green', s=50)\n",
        "            ax.text(i + 0.6, j + 0.6, 'Anthill', ha='left', va='bottom', fontsize=8, color='black')\n",
        "            ax.text(i + 0.74, j + 0.35, \"s_{}{}\".format(i , j), ha='right', va='bottom', fontsize=5, color='black')\n",
        "        else:\n",
        "            dot_color = 'red' if i == 0 or i == 4 or j == 0 or j == 4 else 'grey'\n",
        "            ax.scatter(i + 0.5, j + 0.5, color=dot_color, s=20)\n",
        "            ax.text(i + 0.73, j + 0.37, \"s_{}{}\".format(i , 4 - j), ha='right', va='bottom', fontsize=5, color='black')\n",
        "ax.set_xlim(0, 5)\n",
        "ax.set_ylim(0, 5)\n",
        "ax.set_xticks([])\n",
        "ax.set_yticks([])\n",
        "ax.set_aspect('equal', 'box')\n",
        "\n",
        "# Add legend for Food\n",
        "ax.scatter([], [], color='red', s=20, label=\"Food\")\n",
        "legend = ax.legend(loc=\"upper right\", bbox_to_anchor=(0.90, 0.90), fontsize=8, handlelength=1, handletextpad=0.5)\n",
        "\n",
        "# Remove the border surrounding the plot\n",
        "for spine in ax.spines.values():\n",
        "    spine.set_visible(False)\n",
        "plt.show()"
      ],
      "metadata": {
        "colab": {
          "base_uri": "https://localhost:8080/",
          "height": 499
        },
        "id": "_PTjtCbfk1KL",
        "outputId": "2679c9df-a196-40fe-85b5-6921c9637ab4"
      },
      "execution_count": 2,
      "outputs": [
        {
          "output_type": "display_data",
          "data": {
            "text/plain": [
              "<Figure size 600x600 with 1 Axes>"
            ],
            "image/png": "[encoded data removed]"
          },
          "metadata": {}
        }
      ]
    },
    {
      "cell_type": "markdown",
      "source": [
        "One possible approach to this problem is to use recursive formulations modelling the expected number of steps from each position of the grid and then solve the resulting system of equations.\n",
        "\n",
        "Let (i, j) be a position on the grid with 0 <= i <= 4 and 0 <= j <= 4. The ant takes steps in each direction with equal probabilties p$_{l}$, p$_{r}$, p$_{u}$, p$_{d}$ = 0.25.\n",
        "\n",
        "Let s$_{i, j}$ be the expected number of steps from point (i, j).\n",
        "\n",
        "Using the total law of probabilty, we can model the expected number of steps from (i, j) as:\n",
        "\n",
        "s$_{i, j}$ = 1 + p$_{ l }$ * s$_{i-1, j}$ + p$_{ r }$ * s$_{i+1, j}$ + p$_{ u }$ * s$_{i, j-1}$ + p$_{ d }$ * s$_{i, j+1}$\n",
        "\n",
        "In words, the expected number of steps from position (i, j) is 1 (the first step) plus the weigthed sum of the expected number of steps from the neighboring positions.\n",
        "\n",
        "We can use this approach to model the expected number of steps from each of the 9 positions within the grid.\n",
        "\n",
        "For the 12 reachable positions on the food border on the other hand, no further steps need to be taken. The expected number of steps for these positions is therefore simply:\n",
        "\n",
        "s$_{i, j}$ = 0\n",
        "\n",
        "Let's implement the full system of equations using Python's SymPy package:"
      ],
      "metadata": {
        "id": "bZSENPTAwsv3"
      }
    },
    {
      "cell_type": "code",
      "source": [
        "# Create the symbols we will use for SymPy\n",
        "symbols_string = ' '.join([f's_{i}{j}' for i in range(5) for j in range(5)])\n",
        "s_00, s_01, s_02, s_03, s_04, s_10, s_11, s_12, s_13, s_14, s_20, s_21, s_22, s_23, s_24, s_30, s_31, s_32, s_33, s_34, s_40, s_41, s_42, s_43, s_44 = sp.symbols(symbols_string)\n",
        "ant_symbols = [s_01, s_02, s_03, s_10, s_11, s_12, s_13, s_14, s_20, s_21, s_22, s_23, s_24, s_30, s_31, s_32, s_33, s_34, s_41, s_42, s_43] # Note that we remove the corners since the ant can not reach these points."
      ],
      "metadata": {
        "id": "-8rd2-U1Qw0E"
      },
      "execution_count": 3,
      "outputs": []
    },
    {
      "cell_type": "code",
      "source": [
        "# We implement the equations for the 9 positions within the grid and the 12 positions on the food boundary as discussed above.\n",
        "ant_equations = [\n",
        "    sp.Eq(s_01, 0),\n",
        "    sp.Eq(s_02, 0),\n",
        "    sp.Eq(s_03, 0),\n",
        "\n",
        "    sp.Eq(s_10, 0),\n",
        "    sp.Eq(s_11, 1 + 0.25 * s_01 + 0.25 * s_21 + 0.25 * s_10 + 0.25 * s_12),\n",
        "    sp.Eq(s_12, 1 + 0.25 * s_02 + 0.25 * s_22 + 0.25 * s_11 + 0.25 * s_13),\n",
        "    sp.Eq(s_13, 1 + 0.25 * s_03 + 0.25 * s_23 + 0.25 * s_12 + 0.25 * s_14),\n",
        "    sp.Eq(s_14, 0),\n",
        "\n",
        "    sp.Eq(s_20, 0),\n",
        "    sp.Eq(s_21, 1 + 0.25 * s_11 + 0.25 * s_31 + 0.25 * s_20 + 0.25 * s_22),\n",
        "    sp.Eq(s_22, 1 + 0.25 * s_12 + 0.25 * s_32 + 0.25 * s_21 + 0.25 * s_23),\n",
        "    sp.Eq(s_23, 1 + 0.25 * s_13 + 0.25 * s_33 + 0.25 * s_22 + 0.25 * s_24),\n",
        "    sp.Eq(s_24, 0),\n",
        "\n",
        "    sp.Eq(s_30, 0),\n",
        "    sp.Eq(s_31, 1 + 0.25 * s_21 + 0.25 * s_41 + 0.25 * s_30 + 0.25 * s_32),\n",
        "    sp.Eq(s_32, 1 + 0.25 * s_22 + 0.25 * s_42 + 0.25 * s_31 + 0.25 * s_33),\n",
        "    sp.Eq(s_33, 1 + 0.25 * s_23 + 0.25 * s_43 + 0.25 * s_32 + 0.25 * s_34),\n",
        "    sp.Eq(s_34, 0),\n",
        "\n",
        "    sp.Eq(s_41, 0),\n",
        "    sp.Eq(s_42, 0),\n",
        "    sp.Eq(s_43, 0)\n",
        "]\n",
        "\n",
        "# Turn the system of equations into matrix form.\n",
        "A, b = sp.linear_eq_to_matrix(ant_equations, ant_symbols)"
      ],
      "metadata": {
        "id": "whDnHfStIXIy"
      },
      "execution_count": 4,
      "outputs": []
    },
    {
      "cell_type": "code",
      "source": [
        "# Let's take look at the system of equations in matrix form.\n",
        "latex_representation = f\"\\\\tiny{sp.latex(A)} \\\\times {sp.latex(sp.Matrix(ant_symbols))} = {sp.latex(b)}\"\n",
        "display(Math(latex_representation))"
      ],
      "metadata": {
        "colab": {
          "base_uri": "https://localhost:8080/",
          "height": 231
        },
        "id": "-0o4Xc3lODlg",
        "outputId": "d1ac251a-ef35-4d56-b68a-1c259b33c3a5"
      },
      "execution_count": 5,
      "outputs": [
        {
          "output_type": "display_data",
          "data": {
            "text/plain": [
              "<IPython.core.display.Math object>"
            ],
            "text/latex": "$\\displaystyle \\tiny\\left[\\begin{array}{ccccccccccccccccccccc}1 & 0 & 0 & 0 & 0 & 0 & 0 & 0 & 0 & 0 & 0 & 0 & 0 & 0 & 0 & 0 & 0 & 0 & 0 & 0 & 0\\\\0 & 1 & 0 & 0 & 0 & 0 & 0 & 0 & 0 & 0 & 0 & 0 & 0 & 0 & 0 & 0 & 0 & 0 & 0 & 0 & 0\\\\0 & 0 & 1 & 0 & 0 & 0 & 0 & 0 & 0 & 0 & 0 & 0 & 0 & 0 & 0 & 0 & 0 & 0 & 0 & 0 & 0\\\\0 & 0 & 0 & 1 & 0 & 0 & 0 & 0 & 0 & 0 & 0 & 0 & 0 & 0 & 0 & 0 & 0 & 0 & 0 & 0 & 0\\\\-0.25 & 0 & 0 & -0.25 & 1 & -0.25 & 0 & 0 & 0 & -0.25 & 0 & 0 & 0 & 0 & 0 & 0 & 0 & 0 & 0 & 0 & 0\\\\0 & -0.25 & 0 & 0 & -0.25 & 1 & -0.25 & 0 & 0 & 0 & -0.25 & 0 & 0 & 0 & 0 & 0 & 0 & 0 & 0 & 0 & 0\\\\0 & 0 & -0.25 & 0 & 0 & -0.25 & 1 & -0.25 & 0 & 0 & 0 & -0.25 & 0 & 0 & 0 & 0 & 0 & 0 & 0 & 0 & 0\\\\0 & 0 & 0 & 0 & 0 & 0 & 0 & 1 & 0 & 0 & 0 & 0 & 0 & 0 & 0 & 0 & 0 & 0 & 0 & 0 & 0\\\\0 & 0 & 0 & 0 & 0 & 0 & 0 & 0 & 1 & 0 & 0 & 0 & 0 & 0 & 0 & 0 & 0 & 0 & 0 & 0 & 0\\\\0 & 0 & 0 & 0 & -0.25 & 0 & 0 & 0 & -0.25 & 1 & -0.25 & 0 & 0 & 0 & -0.25 & 0 & 0 & 0 & 0 & 0 & 0\\\\0 & 0 & 0 & 0 & 0 & -0.25 & 0 & 0 & 0 & -0.25 & 1 & -0.25 & 0 & 0 & 0 & -0.25 & 0 & 0 & 0 & 0 & 0\\\\0 & 0 & 0 & 0 & 0 & 0 & -0.25 & 0 & 0 & 0 & -0.25 & 1 & -0.25 & 0 & 0 & 0 & -0.25 & 0 & 0 & 0 & 0\\\\0 & 0 & 0 & 0 & 0 & 0 & 0 & 0 & 0 & 0 & 0 & 0 & 1 & 0 & 0 & 0 & 0 & 0 & 0 & 0 & 0\\\\0 & 0 & 0 & 0 & 0 & 0 & 0 & 0 & 0 & 0 & 0 & 0 & 0 & 1 & 0 & 0 & 0 & 0 & 0 & 0 & 0\\\\0 & 0 & 0 & 0 & 0 & 0 & 0 & 0 & 0 & -0.25 & 0 & 0 & 0 & -0.25 & 1 & -0.25 & 0 & 0 & -0.25 & 0 & 0\\\\0 & 0 & 0 & 0 & 0 & 0 & 0 & 0 & 0 & 0 & -0.25 & 0 & 0 & 0 & -0.25 & 1 & -0.25 & 0 & 0 & -0.25 & 0\\\\0 & 0 & 0 & 0 & 0 & 0 & 0 & 0 & 0 & 0 & 0 & -0.25 & 0 & 0 & 0 & -0.25 & 1 & -0.25 & 0 & 0 & -0.25\\\\0 & 0 & 0 & 0 & 0 & 0 & 0 & 0 & 0 & 0 & 0 & 0 & 0 & 0 & 0 & 0 & 0 & 1 & 0 & 0 & 0\\\\0 & 0 & 0 & 0 & 0 & 0 & 0 & 0 & 0 & 0 & 0 & 0 & 0 & 0 & 0 & 0 & 0 & 0 & 1 & 0 & 0\\\\0 & 0 & 0 & 0 & 0 & 0 & 0 & 0 & 0 & 0 & 0 & 0 & 0 & 0 & 0 & 0 & 0 & 0 & 0 & 1 & 0\\\\0 & 0 & 0 & 0 & 0 & 0 & 0 & 0 & 0 & 0 & 0 & 0 & 0 & 0 & 0 & 0 & 0 & 0 & 0 & 0 & 1\\end{array}\\right] \\times \\left[\\begin{matrix}s_{01}\\\\s_{02}\\\\s_{03}\\\\s_{10}\\\\s_{11}\\\\s_{12}\\\\s_{13}\\\\s_{14}\\\\s_{20}\\\\s_{21}\\\\s_{22}\\\\s_{23}\\\\s_{24}\\\\s_{30}\\\\s_{31}\\\\s_{32}\\\\s_{33}\\\\s_{34}\\\\s_{41}\\\\s_{42}\\\\s_{43}\\end{matrix}\\right] = \\left[\\begin{matrix}0\\\\0\\\\0\\\\0\\\\1\\\\1\\\\1\\\\0\\\\0\\\\1\\\\1\\\\1\\\\0\\\\0\\\\1\\\\1\\\\1\\\\0\\\\0\\\\0\\\\0\\end{matrix}\\right]$"
          },
          "metadata": {}
        }
      ]
    },
    {
      "cell_type": "code",
      "source": [
        "# And solve it for the expected number of steps.\n",
        "sp.solve(ant_equations, ant_symbols)"
      ],
      "metadata": {
        "colab": {
          "base_uri": "https://localhost:8080/"
        },
        "id": "WQBgVLNkUv0k",
        "outputId": "bed7901a-a5e7-4adb-97bc-de0857739a8e"
      },
      "execution_count": 6,
      "outputs": [
        {
          "output_type": "execute_result",
          "data": {
            "text/plain": [
              "{s_01: 0.0,\n",
              " s_02: 0.0,\n",
              " s_03: 0.0,\n",
              " s_10: 0.0,\n",
              " s_11: 2.75000000000000,\n",
              " s_12: 3.50000000000000,\n",
              " s_13: 2.75000000000000,\n",
              " s_14: 0.0,\n",
              " s_20: 0.0,\n",
              " s_21: 3.50000000000000,\n",
              " s_22: 4.50000000000000,\n",
              " s_23: 3.50000000000000,\n",
              " s_24: 0.0,\n",
              " s_30: 0.0,\n",
              " s_31: 2.75000000000000,\n",
              " s_32: 3.50000000000000,\n",
              " s_33: 2.75000000000000,\n",
              " s_34: 0.0,\n",
              " s_41: 0.0,\n",
              " s_42: 0.0,\n",
              " s_43: 0.0}"
            ]
          },
          "metadata": {},
          "execution_count": 6
        }
      ]
    },
    {
      "cell_type": "markdown",
      "source": [
        "We can see that the expected number of steps for the ant starting from the \"Anthill\"-position is s$_{2, 2}$ = 4.5. In other words, it will take the ant on average 4.5 seconds to reach the food border.\n"
      ],
      "metadata": {
        "id": "y-LX2bzBRTWe"
      }
    },
    {
      "cell_type": "markdown",
      "source": [
        "### Simulation"
      ],
      "metadata": {
        "id": "ydCbt4LDPrKc"
      }
    },
    {
      "cell_type": "markdown",
      "source": [
        "To check if our solution is correct, we can also simulate the ant walk and calculate the average time needed to reach the boundary:"
      ],
      "metadata": {
        "id": "kKkkGBEjPvtL"
      }
    },
    {
      "cell_type": "code",
      "source": [
        "# Define number of rows and columns for 2 dimensional grid.\n",
        "rows, cols = 5, 5\n",
        "\n",
        "directions = [(0, 1), (0, -1), (1, 0), (-1, 0)] # Define directions\n",
        "steps_list = []\n",
        "# Simulate random walk 1000000 times.\n",
        "for i in range(0, 1000000):\n",
        "    x, y = 2, 2 # Starting position\n",
        "    steps = 0 # Set steps to 0.\n",
        "    while 0 < x < (rows-1) and 0 < y < (cols-1): # Proceed while position is not the boundary\n",
        "        dx, dy = random.choice(directions)\n",
        "        x, y = x + dx, y + dy\n",
        "        steps += 1\n",
        "        # print(x, y, steps)\n",
        "    steps_list.append(steps)\n",
        "\n",
        "steps_avg = np.mean(steps_list) # Calculate average number of steps\n",
        "\n",
        "print(steps_avg)"
      ],
      "metadata": {
        "id": "0DwJ7tg1-KRp",
        "colab": {
          "base_uri": "https://localhost:8080/"
        },
        "outputId": "b3cde61d-d86d-4857-c09c-b6c97712d16e"
      },
      "execution_count": 7,
      "outputs": [
        {
          "output_type": "stream",
          "name": "stdout",
          "text": [
            "4.498889\n"
          ]
        }
      ]
    },
    {
      "cell_type": "markdown",
      "source": [
        "Indeed, our simulation confirms that the ant needs on average 4.5 steps or 4.5 seconds to reach the border."
      ],
      "metadata": {
        "id": "plOyZoAzOpI3"
      }
    },
    {
      "cell_type": "markdown",
      "source": [
        "## Question 2. Time to Reach Food on Diagonal Line"
      ],
      "metadata": {
        "id": "61rkRg1mPBx1"
      }
    },
    {
      "cell_type": "markdown",
      "source": [
        "What is the average time the ant will reach food if it is located only on a diagonal line passing through (10cm, 0cm) and (0cm, 10cm) points?"
      ],
      "metadata": {
        "id": "7V2qia0OPUA9"
      }
    },
    {
      "cell_type": "markdown",
      "source": [
        "// TO BE DONE"
      ],
      "metadata": {
        "id": "DD9GYdm0PbXN"
      }
    },
    {
      "cell_type": "markdown",
      "source": [
        "## Question 3. Generalized Simulation & Ellipse Formed Boundary Problem"
      ],
      "metadata": {
        "id": "QIOEWOwtRYk0"
      }
    },
    {
      "cell_type": "markdown",
      "source": [
        "Can you write a program that comes up with an estimate of average time to find food for any closed boundary around the anthill? What would be the answer if food is located outside an defined by ( (x – 2.5cm) / 30cm )^2 + ( (y – 2.5cm) / 40cm )^2 < 1 in coordinate system where the anthill is located at (x = 0cm, y = 0cm)? Provide us with a solution rounded to the nearest integer."
      ],
      "metadata": {
        "id": "c1dCoLweTmb8"
      }
    },
    {
      "cell_type": "markdown",
      "source": [
        "### Simulation Script"
      ],
      "metadata": {
        "id": "HefdHvGGZkCR"
      }
    },
    {
      "cell_type": "markdown",
      "source": [
        "These are actually two questions. First, we have to come up with a script that generalizes the simulation of the ant walk, depending on the starting position, food boundary, and number of iterations:"
      ],
      "metadata": {
        "id": "Bc5gQ5c6US83"
      }
    },
    {
      "cell_type": "code",
      "source": [
        "# Function with arguments for starting position, boundary criterion, and number of iterations.\n",
        "def ant_walk_simulation(x_start, y_start, boundary_crit, iterations):\n",
        "  directions = [(0, 1), (0, -1), (1, 0), (-1, 0)] # Define directions\n",
        "  steps_list = [] # Create empty list for steps\n",
        "  # Simulate random walk.\n",
        "  for i in range(0, iterations):\n",
        "      x, y = x_start, y_start # Starting position\n",
        "      steps = 0 # Set steps to 0.\n",
        "      # print(i)\n",
        "      while boundary_crit(x, y): # Proceed while position is not the boundary\n",
        "          dx, dy = random.choice(directions)\n",
        "          x, y = x + dx, y + dy\n",
        "          steps += 1\n",
        "          # print(x, y, steps)\n",
        "      steps_list.append(steps)\n",
        "  steps_avg = np.mean(steps_list)\n",
        "  return steps_avg"
      ],
      "metadata": {
        "id": "lQ2jvc8sdOq0"
      },
      "execution_count": 8,
      "outputs": []
    },
    {
      "cell_type": "markdown",
      "source": [
        "We can test this for the 5-by-5 grid food boundary from question 1 for which we already have the solution. Indeed, our new simulation script gives us an estimate of the average time close to 4.5 seconds."
      ],
      "metadata": {
        "id": "dDnK1uxfVNfW"
      }
    },
    {
      "cell_type": "code",
      "source": [
        "# Start in the center\n",
        "x_start = 0\n",
        "y_start = 0\n",
        "\n",
        "# Simulate it for 100000 times\n",
        "iterations = 100000\n",
        "\n",
        "# We define the boundary in terms of x and y coordinates.\n",
        "def boundary_crit(x, y):\n",
        "    return -2 < x < 2 and -2 < y < 2\n",
        "\n",
        "ant_walk_simulation(x_start, y_start, boundary_crit, iterations)"
      ],
      "metadata": {
        "colab": {
          "base_uri": "https://localhost:8080/"
        },
        "id": "RLzLlepsod6Z",
        "outputId": "f0974d42-1e5a-406d-d10d-7a330e58f712"
      },
      "execution_count": 9,
      "outputs": [
        {
          "output_type": "execute_result",
          "data": {
            "text/plain": [
              "4.51354"
            ]
          },
          "metadata": {},
          "execution_count": 9
        }
      ]
    },
    {
      "cell_type": "markdown",
      "source": [
        "### Time to Reach Ellipse Formed Boundary"
      ],
      "metadata": {
        "id": "TwYrsVoIZrX1"
      }
    },
    {
      "cell_type": "markdown",
      "source": [
        "The formula ((x – 2.5cm) / 30cm )^2 + ((y – 2.5cm) / 40cm)^2 defines and ellipse centered at x = 2.5 and y = 2.5 with a major axis = 40 cm and a minor axis = 30 cm. Let's get a visual impression:"
      ],
      "metadata": {
        "id": "53VDFcs2W5Is"
      }
    },
    {
      "cell_type": "code",
      "source": [
        "x0 = 2.5\n",
        "y0 = 2.5\n",
        "a = 30\n",
        "b = 40\n",
        "\n",
        "x = np.linspace(-50, 50, 100)  # x values of interest\n",
        "y = np.linspace(-50, 50, 100)[:, None]  # y values of interest, as a \"column\" array\n",
        "\n",
        "ellipse = (((x - x0) / a) ** 2) + (((y - y0) / b) ** 2) <= 1  # True for points inside the ellipse\n",
        "\n",
        "plt.imshow(ellipse, extent=(x[0], x[-1], y[0, 0], y[-1, 0]), origin=\"lower\")\n",
        "plt.show()"
      ],
      "metadata": {
        "colab": {
          "base_uri": "https://localhost:8080/",
          "height": 430
        },
        "id": "NYSOURkWJYGq",
        "outputId": "45ce70b6-583c-4258-f3bf-3587afc5cac1"
      },
      "execution_count": 10,
      "outputs": [
        {
          "output_type": "display_data",
          "data": {
            "text/plain": [
              "<Figure size 640x480 with 1 Axes>"
            ],
            "image/png": "[encoded data removed]"
          },
          "metadata": {}
        }
      ]
    },
    {
      "cell_type": "markdown",
      "source": [
        "We can now use our simulation script to find an estimate for the average time the ant needs to reach the ellipse-formed boundary starting at the anthill at x=0, y=0."
      ],
      "metadata": {
        "id": "fCvceJagXoOP"
      }
    },
    {
      "cell_type": "code",
      "source": [
        "# The anthill is positioned at 0, 0.\n",
        "x_start = 0\n",
        "y_start = 0\n",
        "\n",
        "# Number of simulations\n",
        "iterations = 1000000\n",
        "\n",
        "# We define the boundary in terms of x and y coordinates using the ellipse formula.\n",
        "def boundary_crit(x, y):\n",
        "    return (((x - 0.25) / 3) ** 2 + ((y - 0.25) / 4) ** 2 <= 1)\n",
        "\n",
        "ant_walk_simulation(x_start, y_start, boundary_crit, iterations)"
      ],
      "metadata": {
        "colab": {
          "base_uri": "https://localhost:8080/"
        },
        "id": "kxGxtPHujeX-",
        "outputId": "72842ffb-802d-4f89-a35e-d7d713e88347"
      },
      "execution_count": 13,
      "outputs": [
        {
          "output_type": "execute_result",
          "data": {
            "text/plain": [
              "14.000649"
            ]
          },
          "metadata": {},
          "execution_count": 13
        }
      ]
    },
    {
      "cell_type": "markdown",
      "source": [
        "We estimate that the ant needs on average 14 seconds to reach the ellipse."
      ],
      "metadata": {
        "id": "V2x1tSsYY6ps"
      }
    }
  ]
}